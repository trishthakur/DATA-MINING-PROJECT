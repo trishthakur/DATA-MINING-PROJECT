{
 "cells": [
  {
   "cell_type": "code",
   "execution_count": 8,
   "metadata": {},
   "outputs": [],
   "source": [
    "import pandas as pd\n",
    "import matplotlib.pyplot as plt\n",
    "import seaborn as sns\n",
    "import numpy as np"
   ]
  },
  {
   "cell_type": "code",
   "execution_count": 9,
   "metadata": {},
   "outputs": [],
   "source": [
    "zillow_data = pd.read_csv('Zillow_saledata.csv')\n",
    "zillow_data = zillow_data.drop(columns = ['Unnamed: 0'])\n",
    "residential_sales_data = pd.read_csv('residential_sales.csv')"
   ]
  },
  {
   "cell_type": "code",
   "execution_count": 10,
   "metadata": {},
   "outputs": [
    {
     "name": "stdout",
     "output_type": "stream",
     "text": [
      "Index(['id', 'address', 'addressStreet', 'addressCity', 'addressZipcode',\n",
      "       'beds', 'baths', 'area', 'price', 'latitude', 'longitude'],\n",
      "      dtype='object')\n",
      "Index(['Unnamed: 0', 'Neighborhood Code', 'Account #', 'PARCELNB',\n",
      "       'PROPERTY_ADDRESS', 'LOCCITY', 'SUBNAME', 'MULTIPLE_BLDGS',\n",
      "       'ACCOUNT_TYPE', 'BLDG1_DESCRIPTION', 'BLDG1_DESIGN', 'BLDG1_YEAR_BUILT',\n",
      "       'BEDROOMS', 'FULL_BATHS', 'THREE_QTR_BATHS', 'HALF_BATHS',\n",
      "       'ABOVE_GROUND_SQFT', 'FINISHED_BSMT_SQFT', 'UNFINISHED_BSMT_SQFT',\n",
      "       'GARAGE_SQFT', 'FINISHED_GARAGE_SQFT', 'STUDIO_SQFT', 'OTHER_BLDGS',\n",
      "       'RECEPTION_NO', 'SALE_DATE', 'SALE_PRICE', 'Grantor 1', 'Grantee 1',\n",
      "       'OWNER_NAME', 'CARE_OF', 'MAILING_ADDR1', 'MAILING_ADDR2', 'CITY',\n",
      "       'STATE', 'ZIPCODE', 'LAND_VALUE', 'BLDG_VALUE', 'EXTRA_FEATURE_VALUE',\n",
      "       'year', 'NEIGHBORHOOD CODE', 'ACCOUNTNO', 'grantor', 'grantee',\n",
      "       'MARKET AREA', 'month'],\n",
      "      dtype='object')\n"
     ]
    }
   ],
   "source": [
    "print(zillow_data.columns)\n",
    "print(residential_sales_data.columns)"
   ]
  },
  {
   "cell_type": "code",
   "execution_count": 11,
   "metadata": {},
   "outputs": [],
   "source": [
    "# Converting Bathroom Data to be the same as found on Zillow\n",
    "residential_sales_data['baths'] = residential_sales_data['FULL_BATHS'] + (0.5)*residential_sales_data['THREE_QTR_BATHS'] + (0.5)*residential_sales_data['HALF_BATHS']\n",
    "\n",
    "# Changing sq footage to be the same as found on Zillow (not including unfinished basement or garage space')\n",
    "residential_sales_data['area'] = residential_sales_data['ABOVE_GROUND_SQFT'] + residential_sales_data['FINISHED_BSMT_SQFT'] + residential_sales_data['STUDIO_SQFT']\n",
    "\n",
    "# Adding indicators for where data came from\n",
    "zillow_data['source'] = 'Zillow'\n",
    "residential_sales_data['source'] = 'BoulderCounty'\n",
    "\n",
    "#changing column names to be the same\n",
    "residential_sales_data_renamed = residential_sales_data.rename(columns = {'PROPERTY_ADDRESS': 'address',\n",
    "                                                                          'BEDROOMS': 'beds',\n",
    "                                                                          'SALE_DATE': 'sale_date',\n",
    "                                                                          'SALE_PRICE': 'price',\n",
    "                                                                          'ZIPCODE': 'addressZipcode'})\n",
    "\n",
    "zillow_data['year'] = 2024\n",
    "zillow_data['source'] = 'zillow'\n",
    "residential_sales_data_renamed['year'] = [pd.to_datetime(date).year for date in residential_sales_data_renamed['sale_date']]\n",
    "residential_sales_data_renamed['address'] = [str(address) + ', ' + str(city) + ', ' + str(state) + ' ' + str(zipcode) for address, city, state, zipcode in zip(residential_sales_data_renamed['address'], \n",
    "                                                                                                                                   residential_sales_data_renamed['CITY'],\n",
    "                                                                                                                                   residential_sales_data_renamed['STATE'],\n",
    "                                                                                                                                   residential_sales_data_renamed['addressZipcode'])]\n",
    "residential_sales_data_renamed = residential_sales_data_renamed.drop(columns = ['Unnamed: 0'])\n",
    "residential_sales_data_renamed['source'] = 'bouldercounty'\n"
   ]
  },
  {
   "cell_type": "code",
   "execution_count": 12,
   "metadata": {},
   "outputs": [],
   "source": [
    "#merged_data = pd.concat([zillow_data[['address', 'addressZipcode', 'beds', 'baths', 'area', 'price', 'year']], residential_sales_data_renamed[['address', 'addressZipcode', 'beds', 'baths', 'area', 'price', 'year']]])\n",
    "merged_data = pd.concat([residential_sales_data_renamed[['address', 'addressZipcode', 'beds', 'baths', 'area', 'price', 'year', 'source']], \n",
    "                         zillow_data[['address', 'addressZipcode', 'beds', 'baths', 'area', 'price', 'year', 'source']]])"
   ]
  },
  {
   "cell_type": "code",
   "execution_count": 13,
   "metadata": {},
   "outputs": [],
   "source": [
    "merged_data.to_csv('Res_sales_and_zillow.csv', index = False)"
   ]
  }
 ],
 "metadata": {
  "kernelspec": {
   "display_name": "env",
   "language": "python",
   "name": "python3"
  },
  "language_info": {
   "codemirror_mode": {
    "name": "ipython",
    "version": 3
   },
   "file_extension": ".py",
   "mimetype": "text/x-python",
   "name": "python",
   "nbconvert_exporter": "python",
   "pygments_lexer": "ipython3",
   "version": "3.11.0"
  }
 },
 "nbformat": 4,
 "nbformat_minor": 2
}
