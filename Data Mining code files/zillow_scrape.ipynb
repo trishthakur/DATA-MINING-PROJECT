{
 "cells": [
  {
   "cell_type": "code",
   "execution_count": 12,
   "metadata": {},
   "outputs": [],
   "source": [
    "import pandas as pd\n",
    "import numpy as np\n",
    "import requests\n",
    "import warnings\n",
    "\n",
    "warnings.filterwarnings(\"ignore\")\n",
    "pd.set_option(\"display.max_columns\", None)\n",
    "\n",
    "def get_listings(api_key, listing_url):\n",
    "    url = \"https://app.scrapeak.com/v1/scrapers/zillow/listing\"\n",
    "\n",
    "    querystring = {\n",
    "        \"api_key\": api_key,\n",
    "        \"url\":listing_url\n",
    "    }\n",
    "\n",
    "    return requests.request(\"GET\", url, params=querystring)\n",
    "\n",
    "api_key = '0a864e39-0283-42a0-9f68-fe61823e2774'\n",
    "listing_url = \"https://www.zillow.com/boulder-co/?searchQueryState=%7B%22isMapVisible%22%3Atrue%2C%22mapBounds%22%3A%7B%22west%22%3A-105.57578593847657%2C%22east%22%3A-105.05256206152345%2C%22south%22%3A39.85659022043742%2C%22north%22%3A40.17999311189017%7D%2C%22usersSearchTerm%22%3A%22Boulder%2C%20CO%22%2C%22regionSelection%22%3A%5B%7B%22regionId%22%3A30543%2C%22regionType%22%3A6%7D%5D%2C%22filterState%22%3A%7B%22sort%22%3A%7B%22value%22%3A%22globalrelevanceex%22%7D%2C%22price%22%3A%7B%22min%22%3A0%2C%22max%22%3A18000000%7D%2C%22mp%22%3A%7B%22min%22%3A0%2C%22max%22%3A92891%7D%2C%22con%22%3A%7B%22value%22%3Afalse%7D%2C%22land%22%3A%7B%22value%22%3Afalse%7D%2C%22ah%22%3A%7B%22value%22%3Atrue%7D%2C%22apa%22%3A%7B%22value%22%3Afalse%7D%2C%22manu%22%3A%7B%22value%22%3Afalse%7D%2C%22apco%22%3A%7B%22value%22%3Afalse%7D%7D%2C%22isListVisible%22%3Atrue%2C%22mapZoom%22%3A11%7D\"\n",
    "listing_response = get_listings(api_key, listing_url)\n",
    "listing_response.json().keys()\n",
    "df_listings = pd.json_normalize(listing_response.json()[\"data\"][\"cat1\"][\"searchResults\"][\"mapResults\"])"
   ]
  },
  {
   "cell_type": "code",
   "execution_count": 14,
   "metadata": {},
   "outputs": [
    {
     "data": {
      "text/plain": [
       "0           795 Fox Hill Ct, Boulder, CO 80303\n",
       "1       987 Lost Angel Road, Boulder, CO 80302\n",
       "2          820 Racquet Lane, Boulder, CO 80303\n",
       "3            8323 W Fork Rd, Boulder, CO 80302\n",
       "4      1265-1267 Balsam Ave, Boulder, CO 80304\n",
       "                        ...                   \n",
       "266    2130 Tamarack Avenue, Boulder, CO 80304\n",
       "267         26 Arapahoe Ave, Boulder, CO 80302\n",
       "268           2125 Vine Ave, Boulder, CO 80304\n",
       "269        1945 Canyon Blvd, Boulder, CO 80302\n",
       "270      1210 Linden Avenue, Boulder, CO 80304\n",
       "Name: address, Length: 271, dtype: object"
      ]
     },
     "execution_count": 14,
     "metadata": {},
     "output_type": "execute_result"
    }
   ],
   "source": [
    "#df_listings.to_csv('zillowData.csv')\n",
    "df_listings['address']"
   ]
  }
 ],
 "metadata": {
  "kernelspec": {
   "display_name": "env",
   "language": "python",
   "name": "python3"
  },
  "language_info": {
   "codemirror_mode": {
    "name": "ipython",
    "version": 3
   },
   "file_extension": ".py",
   "mimetype": "text/x-python",
   "name": "python",
   "nbconvert_exporter": "python",
   "pygments_lexer": "ipython3",
   "version": "3.11.0"
  }
 },
 "nbformat": 4,
 "nbformat_minor": 2
}
